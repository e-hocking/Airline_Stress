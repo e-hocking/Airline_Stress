{
 "cells": [
  {
   "cell_type": "code",
   "execution_count": 1,
   "metadata": {},
   "outputs": [],
   "source": [
    "from gurobi import *\n",
    "import pandas as pd\n",
    "import csv"
   ]
  },
  {
   "cell_type": "code",
   "execution_count": 2,
   "metadata": {
    "scrolled": false
   },
   "outputs": [
    {
     "name": "stdout",
     "output_type": "stream",
     "text": [
      "Using license file /Users/elizabethhocking/gurobi.lic\n",
      "Academic license - for non-commercial use only\n"
     ]
    }
   ],
   "source": [
    "Data_all = pd.read_excel(\"Data.xlsx\",sheet_name=\"Table\")\n",
    "Time_all = pd.read_excel(\"Data.xlsx\", sheet_name = \"Time\")\n",
    "\n",
    "Data_all.set_index(['Carrier','Arrival'], inplace=True)\n",
    "Time_all.set_index(['Index','Airport'], inplace=True)\n",
    "\n",
    "Data = Data_all \n",
    "Time = Time_all\n",
    "\n",
    "m = Model()\n",
    "removed = ['Frontier Airlines', 'Hawaiian Airlines Network', 'Allegiant Air','Alaska Airlines Network']\n",
    "# 4 airlines were removed due to them not having data for all the points (ie they don't fly from all the locations or to SFO)"
   ]
  },
  {
   "cell_type": "code",
   "execution_count": 3,
   "metadata": {},
   "outputs": [
    {
     "name": "stdout",
     "output_type": "stream",
     "text": [
      "Would you like to input your travel stressors? (Y/N)\n",
      "if you choose not to, default values will be used.Y\n",
      "On a scale of 1-10, how stressed would you be if the following occured:\n",
      "your flight is cancelled10\n",
      "your flight is diverted from your destination7\n",
      "your flight is late4\n"
     ]
    }
   ],
   "source": [
    "## user input validation function\n",
    "def get_valid_input(inp_str, valid_inp):\n",
    "    valid_inp = list(map(lambda x: str(x), valid_inp))\n",
    "    inp = input(inp_str)\n",
    "    while inp not in valid_inp:\n",
    "        inp = input(inp_str)\n",
    "    return inp\n",
    "\n",
    "# Stressor weights input\n",
    "do_survey = get_valid_input(\n",
    "        'Would you like to input your travel stressors? (Y/N)\\nif you choose not to, default values will be used.',\n",
    "        ['Y', 'N'])\n",
    "\n",
    "if do_survey == 'Y':\n",
    "    print('On a scale of 1-10, how stressed would you be if the following occured:')\n",
    "    stress_cancel = get_valid_input('your flight is cancelled', list(range(1, 11)))\n",
    "    stress_divert = get_valid_input('your flight is diverted from your destination', list(range(1, 11)))\n",
    "    stress_late = get_valid_input('your flight is late', list(range(1,11)))\n",
    "else:\n",
    "    stress_cancel = 10\n",
    "    stress_divert = 5\n",
    "    stress_late = 2\n"
   ]
  },
  {
   "cell_type": "code",
   "execution_count": 4,
   "metadata": {},
   "outputs": [],
   "source": [
    "# add a constraint deciding which airport\n",
    "Data.index\n",
    "Airport = ['EWR', 'JFK', 'LGA']\n",
    "\n",
    "Airline = []\n",
    "for i in range(0,11):\n",
    "    if Data.index[i][0] not in removed:\n",
    "        Airline.append(Data.index[i][0])\n",
    "\n",
    "## ---- Variables ----\n",
    "\n",
    "# variable = 1 if we fly from that airport, 0 if we don't \n",
    "airport = {}\n",
    "for a in Airport:\n",
    "    airport[a] = m.addVar(vtype=GRB.BINARY)\n",
    "    \n",
    "# variable = 1 if we take that carrier, 0 if we don't\n",
    "airline = {} #airline\n",
    "for a_line in Airline:\n",
    "    airline[a_line] = m.addVar(vtype=GRB.BINARY)\n",
    "\n",
    "# flight timing \n",
    "time = {}\n",
    "for i in range(1, 19):\n",
    "    time[i] = m.addVar(vtype=GRB.BINARY)\n",
    "\n",
    "e = {}\n",
    "for a in Airport:\n",
    "    e[a] = {}\n",
    "    for a_line in Airline:\n",
    "        e[a][a_line] = m.addVar(vtype=GRB.BINARY)\n",
    "    \n",
    "schedule = {}\n",
    "for a in Airport:\n",
    "    schedule[a] = {}\n",
    "    for r in range(1, 19):\n",
    "        schedule[a][r] = m.addVar(vtype=GRB.BINARY)\n",
    "\n",
    "# ---- Constraints ----\n",
    "\n",
    "# we should only fly from one airport\n",
    "m.addConstr(quicksum(airport[a] for a in Airport) == 1) #constraint 8\n",
    "m.addConstr(quicksum(airline[a_line] for a_line in Airline) == 1) #constraint 10 fly with one airline\n",
    "m.addConstr(quicksum(time[i] for i in range(1,19)) == 1) #constraint 9 fly only ine time\n",
    "\n",
    "#constraints 6\n",
    "for a in Airport:\n",
    "    for a_line in Airline:\n",
    "        m.addConstr(e[a][a_line] <= airport[a])\n",
    "        m.addConstr(e[a][a_line] <= airline[a_line])\n",
    "        m.addConstr(e[a][a_line] >= airport[a] + airline[a_line] - 1)\n",
    "        m.addConstr(e[a][a_line] >= 0)\n",
    "        m.addConstr(e[a][a_line] <= 1)\n",
    "\n",
    "#constraints 7\n",
    "for a in Airport:\n",
    "    for r in range(1, 19):\n",
    "        m.addConstr(schedule[a][r] <= airport[a])\n",
    "        m.addConstr(schedule[a][r] <= time[r])\n",
    "        m.addConstr(schedule[a][r] >= airport[a] + time[r] - 1)\n",
    "        m.addConstr(schedule[a][r] <= 1)\n",
    "        m.addConstr(schedule[a][r] >= 0)"
   ]
  },
  {
   "cell_type": "code",
   "execution_count": 5,
   "metadata": {},
   "outputs": [],
   "source": [
    "# objective function \n",
    "\n",
    "#obj cancelled 3\n",
    "obj_cancel = stress_cancel * quicksum(e[a][a_line] * Data.loc[a_line, a][\"% Cancelled\"]\n",
    "                                      for a in Airport for a_line in Airline)\n",
    "\n",
    "#4\n",
    "obj_divert = stress_divert * quicksum(e[a][a_line] * Data.loc[a_line, a][\"% Diverted\"]\n",
    "                                       for a in Airport for a_line in Airline)\n",
    "# 1\n",
    "obj_late = stress_late * quicksum(e[a][a_line] * (1 - Data.loc[a_line, a][\"% On Time\"]) \n",
    "                                   for a in Airport for a_line in Airline)\n",
    "# 2\n",
    "obj_sched = stress_late * quicksum(schedule[a][r] * (1 - Time.loc[r, a][\"% On time\"]) \n",
    "                                   for a in Airport for r in range(1,18))\n",
    "\n",
    "m.setObjective(obj_cancel + obj_divert + obj_late, GRB.MINIMIZE)"
   ]
  },
  {
   "cell_type": "code",
   "execution_count": 6,
   "metadata": {},
   "outputs": [
    {
     "name": "stdout",
     "output_type": "stream",
     "text": [
      "Gurobi Optimizer version 9.0.0 build v9.0.0rc2 (mac64)\n",
      "Optimize a model with 378 rows, 103 columns and 703 nonzeros\n",
      "Model fingerprint: 0xcfa7da84\n",
      "Variable types: 0 continuous, 103 integer (103 binary)\n",
      "Coefficient statistics:\n",
      "  Matrix range     [1e+00, 1e+00]\n",
      "  Objective range  [5e-01, 2e+00]\n",
      "  Bounds range     [1e+00, 1e+00]\n",
      "  RHS range        [1e+00, 1e+00]\n",
      "Found heuristic solution: objective 1.7352000\n",
      "Presolve removed 150 rows and 0 columns\n",
      "Presolve time: 0.00s\n",
      "Presolved: 228 rows, 103 columns, 553 nonzeros\n",
      "Variable types: 0 continuous, 103 integer (103 binary)\n",
      "\n",
      "Root relaxation: objective 0.000000e+00, 12 iterations, 0.00 seconds\n",
      "\n",
      "    Nodes    |    Current Node    |     Objective Bounds      |     Work\n",
      " Expl Unexpl |  Obj  Depth IntInf | Incumbent    BestBd   Gap | It/Node Time\n",
      "\n",
      "     0     0    0.00000    0   11    1.73520    0.00000   100%     -    0s\n",
      "H    0     0                       1.5581000    0.00000   100%     -    0s\n",
      "H    0     0                       1.2991000    0.00000   100%     -    0s\n",
      "H    0     0                       0.8007000    0.00000   100%     -    0s\n",
      "H    0     0                       0.7861000    0.00000   100%     -    0s\n",
      "H    0     0                       0.5172000    0.00000   100%     -    0s\n",
      "\n",
      "Cutting planes:\n",
      "  Implied bound: 13\n",
      "  Zero half: 1\n",
      "\n",
      "Explored 1 nodes (16 simplex iterations) in 0.02 seconds\n",
      "Thread count was 12 (of 12 available processors)\n",
      "\n",
      "Solution count 6: 0.5172 0.7861 0.8007 ... 1.7352\n",
      "\n",
      "Optimal solution found (tolerance 1.00e-04)\n",
      "Best objective 5.172000000000e-01, best bound 5.172000000000e-01, gap 0.0000%\n"
     ]
    }
   ],
   "source": [
    "m.optimize()"
   ]
  },
  {
   "cell_type": "code",
   "execution_count": 7,
   "metadata": {},
   "outputs": [
    {
     "name": "stdout",
     "output_type": "stream",
     "text": [
      "[('EWR', -0.0), ('JFK', 1.0), ('LGA', -0.0)]\n",
      "[('American Airlines Network', 0.0), ('Delta Air Line Network', 1.0), ('Jetblue Airways', 0.0), ('Southwest Airlines', 0.0), ('Spirit Airlines', 0.0), ('United Airlines Network', 0.0), ('Total', 0.0)]\n",
      "[(1, 1.0), (2, -0.0), (3, -0.0), (4, -0.0), (5, -0.0), (6, -0.0), (7, -0.0), (8, -0.0), (9, -0.0), (10, -0.0), (11, -0.0), (12, -0.0), (13, -0.0), (14, -0.0), (15, -0.0), (16, -0.0), (17, -0.0), (18, -0.0)]\n",
      "0.5172\n"
     ]
    }
   ],
   "source": [
    "airport_sol = []\n",
    "airline_sol = []\n",
    "time_sol = []\n",
    "\n",
    "sol = []\n",
    "for a in Airport:\n",
    "    val = airport[a].x\n",
    "    if(val == 1):\n",
    "        sol.append(('airport', a))\n",
    "    airport_sol.append((a, val))\n",
    "\n",
    "for a_line in Airline:\n",
    "    val = airline[a_line].x\n",
    "    if(val == 1):\n",
    "        sol.append(('airline', a_line))\n",
    "    airline_sol.append((a_line, val))\n",
    "\n",
    "def timeformat(i):\n",
    "    if i == 18:\n",
    "        return \"23:00-6:00\"\n",
    "    else:\n",
    "        return str(i + 5) + \":00-\" + str(i + 6) + \":00\"\n",
    "\n",
    "for r in range(1,19):\n",
    "    val = time[r].x\n",
    "    if(val == 1):\n",
    "        timeslot = timeformat(r)\n",
    "        sol.append(('time', timeslot))\n",
    "    time_sol.append((r, val))    \n",
    "\n",
    "print(airport_sol)\n",
    "print(airline_sol)\n",
    "print(time_sol)\n",
    "\n",
    "obj = m.getObjective()\n",
    "obj_val = obj.getValue()\n",
    "print(obj_val)\n",
    "\n",
    "sol.append(('objective value', obj_val))\n",
    "\n",
    "##output\n",
    "with open('sol.csv', 'w') as myfile:\n",
    "    wr = csv.writer(myfile, quoting=csv.QUOTE_ALL)\n",
    "    for s in sol:\n",
    "        wr.writerow([s[0], s[1]])"
   ]
  },
  {
   "cell_type": "code",
   "execution_count": null,
   "metadata": {},
   "outputs": [],
   "source": []
  },
  {
   "cell_type": "code",
   "execution_count": null,
   "metadata": {},
   "outputs": [],
   "source": []
  },
  {
   "cell_type": "markdown",
   "metadata": {},
   "source": [
    " "
   ]
  }
 ],
 "metadata": {
  "kernelspec": {
   "display_name": "Python 3",
   "language": "python",
   "name": "python3"
  },
  "language_info": {
   "codemirror_mode": {
    "name": "ipython",
    "version": 3
   },
   "file_extension": ".py",
   "mimetype": "text/x-python",
   "name": "python",
   "nbconvert_exporter": "python",
   "pygments_lexer": "ipython3",
   "version": "3.7.3"
  }
 },
 "nbformat": 4,
 "nbformat_minor": 2
}
